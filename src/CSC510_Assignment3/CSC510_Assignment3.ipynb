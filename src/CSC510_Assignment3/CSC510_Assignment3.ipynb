{
 "cells": [
  {
   "cell_type": "markdown",
   "metadata": {},
   "source": [
    "# CSC 510 Assignment 3\n",
    "## This Jupyter Notebook file is about building an understanding to select and create a suitable big data system to process big data and perform machine learning algorithms. The following code utilizes an Apache Spark cluster (version 2.4.0)."
   ]
  },
  {
   "cell_type": "markdown",
   "metadata": {},
   "source": [
    "## Local Big Data System"
   ]
  },
  {
   "cell_type": "code",
   "execution_count": 1,
   "metadata": {
    "ExecuteTime": {
     "end_time": "2019-04-16T18:17:57.183415Z",
     "start_time": "2019-04-16T18:17:57.178617Z"
    }
   },
   "outputs": [],
   "source": [
    "import findspark\n",
    "findspark.init()"
   ]
  },
  {
   "cell_type": "code",
   "execution_count": 2,
   "metadata": {
    "ExecuteTime": {
     "end_time": "2019-04-16T18:18:04.041160Z",
     "start_time": "2019-04-16T18:17:57.603082Z"
    }
   },
   "outputs": [],
   "source": [
    "from pyspark import SparkContext, SparkConf\n",
    "from pyspark.sql import SQLContext, functions\n",
    "from pyspark.ml.feature import StringIndexer\n",
    "conf = SparkConf().setAppName(\"CSC 510 Assignment 3\").setMaster(\"spark://127.0.0.1:7077\")\n",
    "sc = SparkContext.getOrCreate(conf)\n",
    "sqlContext = SQLContext(sc)"
   ]
  },
  {
   "cell_type": "code",
   "execution_count": 3,
   "metadata": {
    "ExecuteTime": {
     "end_time": "2019-04-16T18:18:04.144041Z",
     "start_time": "2019-04-16T18:18:04.054894Z"
    }
   },
   "outputs": [
    {
     "data": {
      "text/html": [
       "\n",
       "        <div>\n",
       "            <p><b>SparkContext</b></p>\n",
       "\n",
       "            <p><a href=\"http://10.176.114.212:4040\">Spark UI</a></p>\n",
       "\n",
       "            <dl>\n",
       "              <dt>Version</dt>\n",
       "                <dd><code>v2.4.0</code></dd>\n",
       "              <dt>Master</dt>\n",
       "                <dd><code>spark://127.0.0.1:7077</code></dd>\n",
       "              <dt>AppName</dt>\n",
       "                <dd><code>CSC 510 Assignment 3</code></dd>\n",
       "            </dl>\n",
       "        </div>\n",
       "        "
      ],
      "text/plain": [
       "<SparkContext master=spark://127.0.0.1:7077 appName=CSC 510 Assignment 3>"
      ]
     },
     "execution_count": 3,
     "metadata": {},
     "output_type": "execute_result"
    }
   ],
   "source": [
    "sc"
   ]
  },
  {
   "cell_type": "markdown",
   "metadata": {},
   "source": [
    "## Machine Learning on Big Data System\n",
    "\n",
    "**These methods are utilized for processing data prior to Decision Tree Classification.**"
   ]
  },
  {
   "cell_type": "code",
   "execution_count": 4,
   "metadata": {
    "ExecuteTime": {
     "end_time": "2019-04-16T18:18:04.187351Z",
     "start_time": "2019-04-16T18:18:04.153861Z"
    }
   },
   "outputs": [],
   "source": [
    "def str_idx_col(df, col):\n",
    "    new_col = col + '_index'\n",
    "    indexer = StringIndexer(inputCol=col, outputCol=new_col)\n",
    "    indexed = indexer.fit(df).transform(df).drop(col).withColumnRenamed(new_col, col)\n",
    "    return indexed"
   ]
  },
  {
   "cell_type": "code",
   "execution_count": 5,
   "metadata": {
    "ExecuteTime": {
     "end_time": "2019-04-16T18:18:04.236806Z",
     "start_time": "2019-04-16T18:18:04.201388Z"
    }
   },
   "outputs": [],
   "source": [
    "def df_drop_cols(df, df_cols, shared_cols):\n",
    "    for col in df_cols:\n",
    "        if col not in shared_cols:\n",
    "            df = df.drop(col)\n",
    "            \n",
    "    return df"
   ]
  },
  {
   "cell_type": "code",
   "execution_count": 6,
   "metadata": {
    "ExecuteTime": {
     "end_time": "2019-04-16T18:18:04.364643Z",
     "start_time": "2019-04-16T18:18:04.333111Z"
    }
   },
   "outputs": [],
   "source": [
    "def traffic_label(frame, frame_label):\n",
    "    temp_frame = frame.withColumn(\"label\", functions.when(frame[frame_label] == 0, 0)\n",
    "                                  .otherwise(1))\n",
    "    return temp_frame"
   ]
  },
  {
   "cell_type": "markdown",
   "metadata": {},
   "source": [
    "**Read in the nslkdd-version1.csv and nslkdd-version2.csv files and print out the number of observations in each set.**"
   ]
  },
  {
   "cell_type": "code",
   "execution_count": 8,
   "metadata": {
    "ExecuteTime": {
     "end_time": "2019-04-16T18:22:18.578714Z",
     "start_time": "2019-04-16T18:21:59.301796Z"
    }
   },
   "outputs": [
    {
     "name": "stdout",
     "output_type": "stream",
     "text": [
      "Number of observations in nslkdd-version1.csv: 25192\n",
      "Number of observations in nslkdd-version2.csv: 25192\n"
     ]
    }
   ],
   "source": [
    "v1 = sqlContext.read.csv(\"../../data/CSC-510_Assignment2_Data/nslkdd-version1.csv\",\n",
    "                         inferSchema=\"true\", header=True).dropna()\n",
    "v2 = sqlContext.read.csv(\"../../data/CSC-510_Assignment2_Data/nslkdd-version2.csv\",\n",
    "                         inferSchema=\"true\", header=True).dropna()\n",
    "\n",
    "print(\"Number of observations in nslkdd-version1.csv:\", v1.count())\n",
    "print(\"Number of observations in nslkdd-version2.csv:\", v2.count())"
   ]
  },
  {
   "cell_type": "markdown",
   "metadata": {},
   "source": [
    "**Print out the column names in each set, along with the number of columns per dataset, and the common columns in each set.**"
   ]
  },
  {
   "cell_type": "code",
   "execution_count": 9,
   "metadata": {
    "ExecuteTime": {
     "end_time": "2019-04-16T18:22:18.637005Z",
     "start_time": "2019-04-16T18:22:18.583159Z"
    }
   },
   "outputs": [
    {
     "name": "stdout",
     "output_type": "stream",
     "text": [
      "Columns of nslkdd-version1.csv:\n",
      " ['a1', 'a2', 'a3', 'a4', 'a5', 'a6', 'a7', 'a8', 'a9', 'a10', 'a11', 'a12', 'a13', 'a14', 'a15', 'a16', 'a17', 'a18', 'a19', 'a20', 'a21', 'a22', 'a23', 'a24', 'a25', 'a26', 'a27', 'a28', 'a29', 'a30', 'a31', 'a32', 'a33', 'a34', 'a35', 'a36', 'a37', 'a38', 'a39', 'a40', 'a41', 'a42'] \n",
      "\t(# of columns = 42)\n",
      "\n",
      "\n",
      "Columns of nslkdd-version2.csv:\n",
      " ['a7', 'a8', 'a9', 'a10', 'a11', 'a12', 'a13', 'a14', 'a15', 'a16', 'a17', 'a18', 'a19', 'a20', 'a21', 'a22', 'a23', 'a24', 'a25', 'a26', 'a27', 'a28', 'a29', 'a30', 'a31', 'a32', 'a33', 'a34', 'a35', 'a36', 'a37', 'a38', 'a39', 'a40', 'a41', 'a42'] \n",
      "\t(# of columns = 36)\n",
      "\n",
      "\n",
      "Common columns of nslkdd-version1.csv and nslkdd-version2.csv:\n",
      " ['a10', 'a11', 'a12', 'a13', 'a14', 'a15', 'a16', 'a17', 'a18', 'a19', 'a20', 'a21', 'a22', 'a23', 'a24', 'a25', 'a26', 'a27', 'a28', 'a29', 'a30', 'a31', 'a32', 'a33', 'a34', 'a35', 'a36', 'a37', 'a38', 'a39', 'a40', 'a41', 'a42', 'a7', 'a8', 'a9'] \n",
      "\t(# of columns = 36)\n"
     ]
    }
   ],
   "source": [
    "v1_cols = v1.columns\n",
    "v2_cols = v2.columns\n",
    "comm_cols = sorted(set(v1_cols).intersection(v2_cols))\n",
    "print(\"Columns of nslkdd-version1.csv:\\n\", v1_cols, \"\\n\\t(# of columns = %d)\" % len(v1_cols))\n",
    "print(\"\\n\\nColumns of nslkdd-version2.csv:\\n\", v2_cols, \"\\n\\t(# of columns = %d)\" % len(v2_cols))\n",
    "print(\"\\n\\nCommon columns of nslkdd-version1.csv and nslkdd-version2.csv:\\n\", comm_cols,\n",
    "      \"\\n\\t(# of columns = %d)\" % len(comm_cols))"
   ]
  },
  {
   "cell_type": "markdown",
   "metadata": {},
   "source": [
    "**Convert nslkdd-version1.csv label column from categorical values to numerical values, then determine whether the row is classified an attack-traffic type or a normal-traffic type for both datasets.**"
   ]
  },
  {
   "cell_type": "code",
   "execution_count": 10,
   "metadata": {
    "ExecuteTime": {
     "end_time": "2019-04-16T18:30:52.826248Z",
     "start_time": "2019-04-16T18:30:49.675870Z"
    }
   },
   "outputs": [],
   "source": [
    "v1 = str_idx_col(v1, 'a42')\n",
    "v1 = traffic_label(v1, \"a42\")\n",
    "v2 = traffic_label(v2, \"a42\")"
   ]
  },
  {
   "cell_type": "markdown",
   "metadata": {},
   "source": [
    "**Remove the original label column and keep the newly created label column.**"
   ]
  },
  {
   "cell_type": "code",
   "execution_count": 11,
   "metadata": {
    "ExecuteTime": {
     "end_time": "2019-04-16T18:42:02.871214Z",
     "start_time": "2019-04-16T18:42:02.717724Z"
    }
   },
   "outputs": [],
   "source": [
    "comm_cols.remove(\"a42\")\n",
    "comm_cols.append(\"label\")\n",
    "v1 = df_drop_cols(v1, v1_cols, comm_cols)\n",
    "v2 = df_drop_cols(v2, v2_cols, comm_cols)"
   ]
  },
  {
   "cell_type": "markdown",
   "metadata": {},
   "source": [
    "**Using only the columns that each dataset has, compare each feature in a dataset to its counterpart set-feature. Drop them if they do not have similar statistical values; otherwise, keep them.**"
   ]
  },
  {
   "cell_type": "code",
   "execution_count": 12,
   "metadata": {
    "ExecuteTime": {
     "end_time": "2019-04-16T18:42:57.415298Z",
     "start_time": "2019-04-16T18:42:04.646949Z"
    },
    "scrolled": true
   },
   "outputs": [],
   "source": [
    "comm_sum = []\n",
    "\n",
    "for col in comm_cols:\n",
    "    v1_sum = [val for val in v1.select(col).summary().select(col).collect()]\n",
    "    v2_sum = [val for val in v2.select(col).summary().select(col).collect()]\n",
    "    \n",
    "    if v1_sum == v2_sum:\n",
    "        comm_sum.append(col)"
   ]
  },
  {
   "cell_type": "code",
   "execution_count": 13,
   "metadata": {
    "ExecuteTime": {
     "end_time": "2019-04-16T18:42:57.781134Z",
     "start_time": "2019-04-16T18:42:57.437134Z"
    }
   },
   "outputs": [],
   "source": [
    "v1 = df_drop_cols(v1, v1.columns, comm_sum)\n",
    "v2 = df_drop_cols(v2, v2.columns, comm_sum)"
   ]
  },
  {
   "cell_type": "code",
   "execution_count": 14,
   "metadata": {
    "ExecuteTime": {
     "end_time": "2019-04-16T18:42:57.832308Z",
     "start_time": "2019-04-16T18:42:57.788241Z"
    }
   },
   "outputs": [
    {
     "name": "stdout",
     "output_type": "stream",
     "text": [
      "Similar-stats columns from nslkdd-version1 and nslkdd-version2:\n",
      " ['a22', 'a23', 'a24', 'a25', 'a26', 'a27', 'a28', 'a29', 'a30', 'a31', 'a32', 'a33', 'a34', 'a35', 'a36', 'a37', 'a38', 'a39', 'a40', 'a41', 'a7', 'a8', 'label'] \n",
      "\t(# of columns = 23)\n"
     ]
    }
   ],
   "source": [
    "print(\"Similar-stats columns from nslkdd-version1 and nslkdd-version2:\\n\", comm_sum,\n",
    "      \"\\n\\t(# of columns = %d)\" % len(comm_sum))"
   ]
  },
  {
   "cell_type": "markdown",
   "metadata": {},
   "source": [
    "**Obtain only the columns where the third-quartile of the column is greater than 0.0.**"
   ]
  },
  {
   "cell_type": "code",
   "execution_count": 15,
   "metadata": {
    "ExecuteTime": {
     "end_time": "2019-04-16T18:44:01.221034Z",
     "start_time": "2019-04-16T18:43:48.976561Z"
    }
   },
   "outputs": [],
   "source": [
    "stat_best_cols = [col for col in comm_sum for stat_name, val in v1.select(col).summary().collect()\n",
    "                  if stat_name == '75%' and float(val) > 0]"
   ]
  },
  {
   "cell_type": "code",
   "execution_count": 16,
   "metadata": {
    "ExecuteTime": {
     "end_time": "2019-04-16T18:44:01.247150Z",
     "start_time": "2019-04-16T18:44:01.233242Z"
    }
   },
   "outputs": [
    {
     "name": "stdout",
     "output_type": "stream",
     "text": [
      "Columns from nslkdd-version1 and nslkdd-version2 with a third-quartile > 0:\n",
      " ['a23', 'a24', 'a25', 'a26', 'a29', 'a30', 'a32', 'a33', 'a34', 'a35', 'a36', 'a37', 'a38', 'a39', 'label'] \n",
      "\t(# of columns = 15)\n"
     ]
    }
   ],
   "source": [
    "print(\"Columns from nslkdd-version1 and nslkdd-version2 with a third-quartile > 0:\\n\", stat_best_cols,\n",
    "      \"\\n\\t(# of columns = %d)\" % len(stat_best_cols))"
   ]
  },
  {
   "cell_type": "code",
   "execution_count": 17,
   "metadata": {
    "ExecuteTime": {
     "end_time": "2019-04-16T18:44:53.712710Z",
     "start_time": "2019-04-16T18:44:53.596682Z"
    }
   },
   "outputs": [],
   "source": [
    "v1 = df_drop_cols(v1, v1.columns, stat_best_cols)\n",
    "v2 = df_drop_cols(v2, v2.columns, stat_best_cols)"
   ]
  },
  {
   "cell_type": "markdown",
   "metadata": {},
   "source": [
    "**Describe each column in each dataset.**"
   ]
  },
  {
   "cell_type": "code",
   "execution_count": 18,
   "metadata": {
    "ExecuteTime": {
     "end_time": "2019-04-16T18:46:16.731334Z",
     "start_time": "2019-04-16T18:45:46.711658Z"
    }
   },
   "outputs": [
    {
     "name": "stdout",
     "output_type": "stream",
     "text": [
      "+-------+------------------+\n",
      "|summary|               a23|\n",
      "+-------+------------------+\n",
      "|  count|             25192|\n",
      "|   mean| 84.59117973959987|\n",
      "| stddev|114.67345089343632|\n",
      "|    min|                 1|\n",
      "|    max|               511|\n",
      "+-------+------------------+\n",
      "\n",
      "+-------+------------------+\n",
      "|summary|               a23|\n",
      "+-------+------------------+\n",
      "|  count|             25192|\n",
      "|   mean| 84.59117973959987|\n",
      "| stddev|114.67345089343632|\n",
      "|    min|                 1|\n",
      "|    max|               511|\n",
      "+-------+------------------+\n",
      "\n",
      "+-------+-----------------+\n",
      "|summary|              a24|\n",
      "+-------+-----------------+\n",
      "|  count|            25192|\n",
      "|   mean|27.69875357256272|\n",
      "| stddev|72.46824199226845|\n",
      "|    min|                1|\n",
      "|    max|              511|\n",
      "+-------+-----------------+\n",
      "\n",
      "+-------+-----------------+\n",
      "|summary|              a24|\n",
      "+-------+-----------------+\n",
      "|  count|            25192|\n",
      "|   mean|27.69875357256272|\n",
      "| stddev|72.46824199226845|\n",
      "|    min|                1|\n",
      "|    max|              511|\n",
      "+-------+-----------------+\n",
      "\n",
      "+-------+-------------------+\n",
      "|summary|                a25|\n",
      "+-------+-------------------+\n",
      "|  count|              25192|\n",
      "|   mean| 0.2863377262623057|\n",
      "| stddev|0.44731232268498944|\n",
      "|    min|                0.0|\n",
      "|    max|                1.0|\n",
      "+-------+-------------------+\n",
      "\n",
      "+-------+-------------------+\n",
      "|summary|                a25|\n",
      "+-------+-------------------+\n",
      "|  count|              25192|\n",
      "|   mean| 0.2863377262623057|\n",
      "| stddev|0.44731232268498944|\n",
      "|    min|                0.0|\n",
      "|    max|                1.0|\n",
      "+-------+-------------------+\n",
      "\n",
      "+-------+-------------------+\n",
      "|summary|                a26|\n",
      "+-------+-------------------+\n",
      "|  count|              25192|\n",
      "|   mean| 0.2837623054938076|\n",
      "| stddev|0.44759890774142674|\n",
      "|    min|                0.0|\n",
      "|    max|                1.0|\n",
      "+-------+-------------------+\n",
      "\n",
      "+-------+-------------------+\n",
      "|summary|                a26|\n",
      "+-------+-------------------+\n",
      "|  count|              25192|\n",
      "|   mean| 0.2837623054938076|\n",
      "| stddev|0.44759890774142674|\n",
      "|    min|                0.0|\n",
      "|    max|                1.0|\n",
      "+-------+-------------------+\n",
      "\n",
      "+-------+------------------+\n",
      "|summary|               a29|\n",
      "+-------+------------------+\n",
      "|  count|             25192|\n",
      "|   mean|0.6605589075897269|\n",
      "| stddev|0.4396373803297487|\n",
      "|    min|               0.0|\n",
      "|    max|               1.0|\n",
      "+-------+------------------+\n",
      "\n",
      "+-------+------------------+\n",
      "|summary|               a29|\n",
      "+-------+------------------+\n",
      "|  count|             25192|\n",
      "|   mean|0.6605589075897269|\n",
      "| stddev|0.4396373803297487|\n",
      "|    min|               0.0|\n",
      "|    max|               1.0|\n",
      "+-------+------------------+\n",
      "\n",
      "+-------+-------------------+\n",
      "|summary|                a30|\n",
      "+-------+-------------------+\n",
      "|  count|              25192|\n",
      "|   mean|0.06236305176245632|\n",
      "| stddev|0.17854999615939898|\n",
      "|    min|                0.0|\n",
      "|    max|                1.0|\n",
      "+-------+-------------------+\n",
      "\n",
      "+-------+-------------------+\n",
      "|summary|                a30|\n",
      "+-------+-------------------+\n",
      "|  count|              25192|\n",
      "|   mean|0.06236305176245632|\n",
      "| stddev|0.17854999615939898|\n",
      "|    min|                0.0|\n",
      "|    max|                1.0|\n",
      "+-------+-------------------+\n",
      "\n",
      "+-------+------------------+\n",
      "|summary|               a32|\n",
      "+-------+------------------+\n",
      "|  count|             25192|\n",
      "|   mean|182.53207367418227|\n",
      "| stddev| 98.99389515528158|\n",
      "|    min|                 0|\n",
      "|    max|               255|\n",
      "+-------+------------------+\n",
      "\n",
      "+-------+------------------+\n",
      "|summary|               a32|\n",
      "+-------+------------------+\n",
      "|  count|             25192|\n",
      "|   mean|182.53207367418227|\n",
      "| stddev| 98.99389515528158|\n",
      "|    min|                 0|\n",
      "|    max|               255|\n",
      "+-------+------------------+\n",
      "\n",
      "+-------+------------------+\n",
      "|summary|               a33|\n",
      "+-------+------------------+\n",
      "|  count|             25192|\n",
      "|   mean|115.06303588440775|\n",
      "| stddev|110.64685035369354|\n",
      "|    min|                 0|\n",
      "|    max|               255|\n",
      "+-------+------------------+\n",
      "\n",
      "+-------+------------------+\n",
      "|summary|               a33|\n",
      "+-------+------------------+\n",
      "|  count|             25192|\n",
      "|   mean|115.06303588440775|\n",
      "| stddev|110.64685035369354|\n",
      "|    min|                 0|\n",
      "|    max|               255|\n",
      "+-------+------------------+\n",
      "\n",
      "+-------+-------------------+\n",
      "|summary|                a34|\n",
      "+-------+-------------------+\n",
      "|  count|              25192|\n",
      "|   mean|  0.519790806605293|\n",
      "| stddev|0.44894391743819656|\n",
      "|    min|                0.0|\n",
      "|    max|                1.0|\n",
      "+-------+-------------------+\n",
      "\n",
      "+-------+-------------------+\n",
      "|summary|                a34|\n",
      "+-------+-------------------+\n",
      "|  count|              25192|\n",
      "|   mean|  0.519790806605293|\n",
      "| stddev|0.44894391743819656|\n",
      "|    min|                0.0|\n",
      "|    max|                1.0|\n",
      "+-------+-------------------+\n",
      "\n",
      "+-------+-------------------+\n",
      "|summary|                a35|\n",
      "+-------+-------------------+\n",
      "|  count|              25192|\n",
      "|   mean|0.08253850428706398|\n",
      "| stddev|0.18719111353591167|\n",
      "|    min|                0.0|\n",
      "|    max|                1.0|\n",
      "+-------+-------------------+\n",
      "\n",
      "+-------+-------------------+\n",
      "|summary|                a35|\n",
      "+-------+-------------------+\n",
      "|  count|              25192|\n",
      "|   mean|0.08253850428706398|\n",
      "| stddev|0.18719111353591167|\n",
      "|    min|                0.0|\n",
      "|    max|                1.0|\n",
      "+-------+-------------------+\n",
      "\n",
      "+-------+-------------------+\n",
      "|summary|                a36|\n",
      "+-------+-------------------+\n",
      "|  count|              25192|\n",
      "|   mean|0.14745276278184874|\n",
      "| stddev|0.30836659108783937|\n",
      "|    min|                0.0|\n",
      "|    max|                1.0|\n",
      "+-------+-------------------+\n",
      "\n",
      "+-------+-------------------+\n",
      "|summary|                a36|\n",
      "+-------+-------------------+\n",
      "|  count|              25192|\n",
      "|   mean|0.14745276278184874|\n",
      "| stddev|0.30836659108783937|\n",
      "|    min|                0.0|\n",
      "|    max|                1.0|\n",
      "+-------+-------------------+\n",
      "\n",
      "+-------+--------------------+\n",
      "|summary|                 a37|\n",
      "+-------+--------------------+\n",
      "|  count|               25192|\n",
      "|   mean|0.031844236265478706|\n",
      "| stddev| 0.11057496885808385|\n",
      "|    min|                 0.0|\n",
      "|    max|                 1.0|\n",
      "+-------+--------------------+\n",
      "\n",
      "+-------+--------------------+\n",
      "|summary|                 a37|\n",
      "+-------+--------------------+\n",
      "|  count|               25192|\n",
      "|   mean|0.031844236265478706|\n",
      "| stddev| 0.11057496885808385|\n",
      "|    min|                 0.0|\n",
      "|    max|                 1.0|\n",
      "+-------+--------------------+\n",
      "\n",
      "+-------+------------------+\n",
      "|summary|               a38|\n",
      "+-------+------------------+\n",
      "|  count|             25192|\n",
      "|   mean|0.2858002540489096|\n",
      "| stddev|0.4453164751115453|\n",
      "|    min|               0.0|\n",
      "|    max|               1.0|\n",
      "+-------+------------------+\n",
      "\n",
      "+-------+------------------+\n",
      "|summary|               a38|\n",
      "+-------+------------------+\n",
      "|  count|             25192|\n",
      "|   mean|0.2858002540489096|\n",
      "| stddev|0.4453164751115453|\n",
      "|    min|               0.0|\n",
      "|    max|               1.0|\n",
      "+-------+------------------+\n",
      "\n",
      "+-------+------------------+\n",
      "|summary|               a39|\n",
      "+-------+------------------+\n",
      "|  count|             25192|\n",
      "|   mean|0.2798463798031175|\n",
      "| stddev|0.4460753261474882|\n",
      "|    min|               0.0|\n",
      "|    max|               1.0|\n",
      "+-------+------------------+\n",
      "\n",
      "+-------+------------------+\n",
      "|summary|               a39|\n",
      "+-------+------------------+\n",
      "|  count|             25192|\n",
      "|   mean|0.2798463798031175|\n",
      "| stddev|0.4460753261474882|\n",
      "|    min|               0.0|\n",
      "|    max|               1.0|\n",
      "+-------+------------------+\n",
      "\n",
      "+-------+------------------+\n",
      "|summary|             label|\n",
      "+-------+------------------+\n",
      "|  count|             25192|\n",
      "|   mean|0.4661400444585583|\n",
      "| stddev|0.4988620872323857|\n",
      "|    min|                 0|\n",
      "|    max|                 1|\n",
      "+-------+------------------+\n",
      "\n",
      "+-------+------------------+\n",
      "|summary|             label|\n",
      "+-------+------------------+\n",
      "|  count|             25192|\n",
      "|   mean|0.4661400444585583|\n",
      "| stddev|0.4988620872323857|\n",
      "|    min|                 0|\n",
      "|    max|                 1|\n",
      "+-------+------------------+\n",
      "\n"
     ]
    }
   ],
   "source": [
    "for col in stat_best_cols:\n",
    "    v1.select(col).describe().show()\n",
    "    v2.select(col).describe().show()"
   ]
  },
  {
   "cell_type": "markdown",
   "metadata": {},
   "source": [
    "**Create vectors from the processed features and standardized them.**"
   ]
  },
  {
   "cell_type": "code",
   "execution_count": 19,
   "metadata": {
    "ExecuteTime": {
     "end_time": "2019-04-16T18:51:49.361820Z",
     "start_time": "2019-04-16T18:51:49.001640Z"
    }
   },
   "outputs": [],
   "source": [
    "from pyspark.ml.linalg import Vectors\n",
    "from pyspark.ml.feature import VectorAssembler\n",
    "\n",
    "stat_best_cols.remove('label')\n",
    "assembler = VectorAssembler(inputCols=stat_best_cols, outputCol=\"features\")\n",
    "v1_output = assembler.transform(v1)\n",
    "v2_output = assembler.transform(v1)\n",
    "\n",
    "for col in stat_best_cols:\n",
    "    v1_output = v1_output.drop(col)\n",
    "    v2_output = v2_output.drop(col)"
   ]
  },
  {
   "cell_type": "code",
   "execution_count": 20,
   "metadata": {
    "ExecuteTime": {
     "end_time": "2019-04-16T18:51:54.089608Z",
     "start_time": "2019-04-16T18:51:51.709578Z"
    }
   },
   "outputs": [],
   "source": [
    "from pyspark.ml.feature import StandardScaler\n",
    "\n",
    "scaler = StandardScaler(inputCol=\"features\", outputCol=\"scaled_features\", withStd=True, withMean=False)\n",
    "scaled_v1 = scaler.fit(v1_output).transform(v1_output)\n",
    "scaled_v2 = scaler.fit(v2_output).transform(v2_output)"
   ]
  },
  {
   "cell_type": "markdown",
   "metadata": {},
   "source": [
    "**Split data into training and testing sets, then perform Decision Tree classification on the datasets.**"
   ]
  },
  {
   "cell_type": "code",
   "execution_count": 21,
   "metadata": {
    "ExecuteTime": {
     "end_time": "2019-04-16T18:53:19.625773Z",
     "start_time": "2019-04-16T18:53:02.185617Z"
    }
   },
   "outputs": [],
   "source": [
    "from pyspark.ml.classification import DecisionTreeClassifier\n",
    "from pyspark.ml.evaluation import BinaryClassificationEvaluator\n",
    "from pyspark.ml.tuning import CrossValidator, ParamGridBuilder\n",
    "\n",
    "(v1_train, v1_test) = scaled_v1.randomSplit([0.8, 0.2], seed=100)\n",
    "(v2_train, v2_test) = scaled_v2.randomSplit([0.8, 0.2], seed=100)\n",
    "\n",
    "dt = DecisionTreeClassifier(labelCol=\"label\", featuresCol=\"scaled_features\")\n",
    "\n",
    "v1_model = dt.fit(v1_train)\n",
    "v1_pred = v1_model.transform(v1_test)\n",
    "\n",
    "v2_model = dt.fit(v2_train)\n",
    "v2_pred = v2_model.transform(v2_test)"
   ]
  },
  {
   "cell_type": "markdown",
   "metadata": {},
   "source": [
    "**Run the Binary-Classification Evaluator on the classification results and deliver estimator accuracy.**"
   ]
  },
  {
   "cell_type": "code",
   "execution_count": 22,
   "metadata": {
    "ExecuteTime": {
     "end_time": "2019-04-16T18:54:08.309088Z",
     "start_time": "2019-04-16T18:54:08.277766Z"
    }
   },
   "outputs": [],
   "source": [
    "evaluator = BinaryClassificationEvaluator()\n",
    "paramGrid = ParamGridBuilder().addGrid(dt.maxDepth,[1,2,6,10]).addGrid(dt.maxBins,[20,40,80]).build()"
   ]
  },
  {
   "cell_type": "code",
   "execution_count": 23,
   "metadata": {
    "ExecuteTime": {
     "end_time": "2019-04-16T18:54:12.879157Z",
     "start_time": "2019-04-16T18:54:08.850973Z"
    }
   },
   "outputs": [
    {
     "name": "stdout",
     "output_type": "stream",
     "text": [
      "Binary Classification Estimator Accuracy of nslkdd-version1: 0.936716316782762\n",
      "Binary Classification Estimator Accuracy of nslkdd-version2: 0.936716316782762\n"
     ]
    }
   ],
   "source": [
    "v1_bce_accuracy = evaluator.evaluate(v1_pred)\n",
    "v2_bce_accuracy = evaluator.evaluate(v2_pred)\n",
    "\n",
    "print(\"Binary Classification Estimator Accuracy of nslkdd-version1: %s\" % v1_bce_accuracy)\n",
    "print(\"Binary Classification Estimator Accuracy of nslkdd-version2: %s\" % v2_bce_accuracy)"
   ]
  },
  {
   "cell_type": "markdown",
   "metadata": {},
   "source": [
    "**Calculate 10-fold Cross-Validation accuracy on classification results.**"
   ]
  },
  {
   "cell_type": "code",
   "execution_count": 24,
   "metadata": {
    "ExecuteTime": {
     "end_time": "2019-04-16T18:59:50.210876Z",
     "start_time": "2019-04-16T18:54:55.288934Z"
    }
   },
   "outputs": [
    {
     "name": "stdout",
     "output_type": "stream",
     "text": [
      "Cross-Validation (10-Fold) Accuracy of nslkdd-version1: 0.96689901706513\n",
      "Cross-Validation (10-Fold) Accuracy of nslkdd-version2: 0.96689901706513\n"
     ]
    }
   ],
   "source": [
    "cv = CrossValidator(estimator=dt, estimatorParamMaps=paramGrid, evaluator=evaluator, numFolds=10)\n",
    "\n",
    "v1_cv_model = cv.fit(v1_train)\n",
    "v1_cv_pred = v1_cv_model.transform(v1_test)\n",
    "v1_cv_accuracy = evaluator.evaluate(v1_cv_pred)\n",
    "\n",
    "v2_cv_model = cv.fit(v2_train)\n",
    "v2_cv_pred = v2_cv_model.transform(v2_test)\n",
    "v2_cv_accuracy = evaluator.evaluate(v2_cv_pred)\n",
    "\n",
    "print(\"Cross-Validation (10-Fold) Accuracy of nslkdd-version1: %s\" % v1_cv_accuracy)\n",
    "print(\"Cross-Validation (10-Fold) Accuracy of nslkdd-version2: %s\" % v2_cv_accuracy)"
   ]
  }
 ],
 "metadata": {
  "kernelspec": {
   "display_name": "Python 3",
   "language": "python",
   "name": "python3"
  },
  "language_info": {
   "codemirror_mode": {
    "name": "ipython",
    "version": 3
   },
   "file_extension": ".py",
   "mimetype": "text/x-python",
   "name": "python",
   "nbconvert_exporter": "python",
   "pygments_lexer": "ipython3",
   "version": "3.7.2"
  }
 },
 "nbformat": 4,
 "nbformat_minor": 2
}
